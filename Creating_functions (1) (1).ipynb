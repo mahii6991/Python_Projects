{
 "cells": [
  {
   "cell_type": "code",
   "execution_count": 8,
   "id": "cef54e23",
   "metadata": {},
   "outputs": [],
   "source": [
    "class Robot:\n",
    "    def __init__(self, n ,c ,w ):#this is called as a constructor \n",
    "        self.name = n\n",
    "        self.Color= c\n",
    "        self.Weight= w\n",
    "        \n",
    "    def introduce_self(self): #this is called as a function\n",
    "        print(\"My name is \" + self.name)    \n",
    "    "
   ]
  },
  {
   "cell_type": "code",
   "execution_count": 9,
   "id": "d6140be5",
   "metadata": {},
   "outputs": [],
   "source": [
    "#now we not need to use the old constructor , we will going to use the \n",
    "#new constructor\n",
    "r1 = Robot(\"Max\",\"blue\",30)\n",
    "r2 = Robot(\"jacob\",\"orange\",40)\n",
    "\n"
   ]
  },
  {
   "cell_type": "code",
   "execution_count": 10,
   "id": "3549fc80",
   "metadata": {},
   "outputs": [
    {
     "data": {
      "text/plain": [
       "'Max'"
      ]
     },
     "execution_count": 10,
     "metadata": {},
     "output_type": "execute_result"
    }
   ],
   "source": [
    "r1.name"
   ]
  },
  {
   "cell_type": "code",
   "execution_count": 11,
   "id": "cfa28810",
   "metadata": {},
   "outputs": [
    {
     "data": {
      "text/plain": [
       "'blue'"
      ]
     },
     "execution_count": 11,
     "metadata": {},
     "output_type": "execute_result"
    }
   ],
   "source": [
    "r1.Color"
   ]
  },
  {
   "cell_type": "markdown",
   "id": "55e618e1",
   "metadata": {},
   "source": [
    "defining the functions"
   ]
  },
  {
   "cell_type": "code",
   "execution_count": 12,
   "id": "642b86c6",
   "metadata": {},
   "outputs": [
    {
     "data": {
      "text/plain": [
       "30"
      ]
     },
     "execution_count": 12,
     "metadata": {},
     "output_type": "execute_result"
    }
   ],
   "source": [
    "r1.Weight"
   ]
  },
  {
   "cell_type": "code",
   "execution_count": 13,
   "id": "07760d87",
   "metadata": {},
   "outputs": [
    {
     "name": "stdout",
     "output_type": "stream",
     "text": [
      "My name is Max\n",
      "My name is jacob\n"
     ]
    }
   ],
   "source": [
    "r1.introduce_self()\n",
    "r2.introduce_self()"
   ]
  },
  {
   "cell_type": "code",
   "execution_count": null,
   "id": "659f4a3a",
   "metadata": {},
   "outputs": [],
   "source": [
    "#hece we are defining a new set of class which we will going to call is person:\n",
    "class Person:\n",
    "    "
   ]
  },
  {
   "cell_type": "code",
   "execution_count": 5,
   "id": "02e79410",
   "metadata": {},
   "outputs": [],
   "source": [
    "def age(Age):\n",
    "    if Age < 18 :\n",
    "        print(\"the age is less than 18\")\n",
    "    else:\n",
    "        print(\"the age is greater than 18\")"
   ]
  },
  {
   "cell_type": "code",
   "execution_count": 7,
   "id": "b4464f50",
   "metadata": {},
   "outputs": [
    {
     "name": "stdout",
     "output_type": "stream",
     "text": [
      "the age is less than 18\n"
     ]
    }
   ],
   "source": [
    "age(15)"
   ]
  },
  {
   "cell_type": "code",
   "execution_count": 8,
   "id": "98f35c70",
   "metadata": {},
   "outputs": [
    {
     "name": "stdout",
     "output_type": "stream",
     "text": [
      "the age is greater than 18\n"
     ]
    }
   ],
   "source": [
    "age(20)"
   ]
  },
  {
   "cell_type": "code",
   "execution_count": 17,
   "id": "6518f951",
   "metadata": {},
   "outputs": [],
   "source": [
    "class clothes:\n",
    "    def __init__(self,s,p,sh):\n",
    "        self.shirts = s\n",
    "        self.pants = p\n",
    "        self.shocks = sh\n",
    "    def clothes_self(self):\n",
    "        print(\"I have clothes\"+ self.shirts)\n",
    "          \n"
   ]
  },
  {
   "cell_type": "code",
   "execution_count": 18,
   "id": "be826918",
   "metadata": {},
   "outputs": [],
   "source": [
    "c1 = clothes(\"redshirt\",\"shortpants\",\"shorter\")"
   ]
  },
  {
   "cell_type": "code",
   "execution_count": 19,
   "id": "c8b587c4",
   "metadata": {},
   "outputs": [
    {
     "ename": "AttributeError",
     "evalue": "type object 'clothes' has no attribute 'shirts'",
     "output_type": "error",
     "traceback": [
      "\u001b[1;31m---------------------------------------------------------------------------\u001b[0m",
      "\u001b[1;31mAttributeError\u001b[0m                            Traceback (most recent call last)",
      "\u001b[1;32m<ipython-input-19-5c160513f1f2>\u001b[0m in \u001b[0;36m<module>\u001b[1;34m\u001b[0m\n\u001b[1;32m----> 1\u001b[1;33m \u001b[0mclothes\u001b[0m\u001b[1;33m.\u001b[0m\u001b[0mshirts\u001b[0m\u001b[1;33m\u001b[0m\u001b[1;33m\u001b[0m\u001b[0m\n\u001b[0m",
      "\u001b[1;31mAttributeError\u001b[0m: type object 'clothes' has no attribute 'shirts'"
     ]
    }
   ],
   "source": [
    "clothes.shirts"
   ]
  },
  {
   "cell_type": "code",
   "execution_count": 25,
   "id": "5faaae03",
   "metadata": {
    "scrolled": true
   },
   "outputs": [
    {
     "name": "stdout",
     "output_type": "stream",
     "text": [
      "7\n",
      "6\n",
      "3\n",
      "6\n",
      "2\n",
      "9\n",
      "7\n",
      "3\n",
      "2\n"
     ]
    }
   ],
   "source": [
    "import random \n",
    "\n",
    "for i in range(2,20,2):\n",
    "    print(random.randint(1,10))\n",
    "\n",
    "#so we have written a for loop interating the random numbers for each of the \n",
    "#values that is defined by the 2 in each number, and generating a random number out of it.#\n"
   ]
  },
  {
   "cell_type": "code",
   "execution_count": 50,
   "id": "601d2e15",
   "metadata": {},
   "outputs": [
    {
     "name": "stdout",
     "output_type": "stream",
     "text": [
      "you will meet your enemy, and your lucky number is 96\n"
     ]
    }
   ],
   "source": [
    "import random\n",
    "lucky_number = random.randint(1,100)\n",
    "fortune_number = random.randint(1,4)\n",
    "fotune_text = ''\n",
    "\n",
    "if fortune_number ==1:\n",
    "    fortune_text= (\"your girl/boy friend\")\n",
    "if fortune_number ==2:\n",
    "    fortune_text= (\"your enemy\")\n",
    "if fortune_number ==3:\n",
    "    fortune_text = (\"your best-bud\")\n",
    "if fortune_number ==4:\n",
    "    fortune_text =(\"your favorite pet\")\n",
    "    \n",
    "print(f'you will meet {fortune_text}, and your lucky number is {lucky_number}')\n",
    "\n",
    "#whatever component that i define in the ifelse statement,I need to define it outside the loop\n",
    "#"
   ]
  },
  {
   "cell_type": "code",
   "execution_count": 46,
   "id": "4e084217",
   "metadata": {},
   "outputs": [],
   "source": [
    "#creating a list in python\n",
    "fav_movies =[]#this is what is called an empty list\n",
    "fav_movies.append(\"deadpool\")#this is the way to add the elements in the list"
   ]
  },
  {
   "cell_type": "code",
   "execution_count": 54,
   "id": "ce1a405e",
   "metadata": {},
   "outputs": [],
   "source": [
    "L1 = [\"dune\",\"the lego movie\",\"toy story\"]\n",
    "fav_movies.append(L1)"
   ]
  },
  {
   "cell_type": "code",
   "execution_count": 55,
   "id": "8a854d5f",
   "metadata": {},
   "outputs": [
    {
     "name": "stdout",
     "output_type": "stream",
     "text": [
      "['deadpool', ('dune', 'the lego movie', 'toy story'), ['dune', 'the lego movie', 'toy story']]\n"
     ]
    }
   ],
   "source": [
    "print(fav_movies)"
   ]
  },
  {
   "cell_type": "code",
   "execution_count": 56,
   "id": "11e36568",
   "metadata": {},
   "outputs": [],
   "source": [
    "fav_movies.clear()#this is the function used to clear the list in the python"
   ]
  },
  {
   "cell_type": "code",
   "execution_count": 57,
   "id": "e01225d9",
   "metadata": {},
   "outputs": [
    {
     "name": "stdout",
     "output_type": "stream",
     "text": [
      "[]\n"
     ]
    }
   ],
   "source": [
    "print(fav_movies)#and as we can see that it is cleared"
   ]
  },
  {
   "cell_type": "code",
   "execution_count": 69,
   "id": "d373a68f",
   "metadata": {},
   "outputs": [
    {
     "data": {
      "text/plain": [
       "['deadpool', 'x-men']"
      ]
     },
     "execution_count": 69,
     "metadata": {},
     "output_type": "execute_result"
    }
   ],
   "source": [
    "fav_movies = [\"deadpool\",\"x-men\",\"avengers\",\"avatars\"]\n",
    "fav_movies[1]#selecting the secound movie\n",
    "fav_movies[-1]#selecting the last movie\n",
    "fav_movies[0:2]#selecting the 1st and 2nd movie from the dataset"
   ]
  },
  {
   "cell_type": "code",
   "execution_count": 70,
   "id": "108d7fbf",
   "metadata": {},
   "outputs": [],
   "source": [
    "another_list= [\"twilight\",\"theory of everthing\",\"moonknight\"]"
   ]
  },
  {
   "cell_type": "code",
   "execution_count": 72,
   "id": "51f4220e",
   "metadata": {},
   "outputs": [
    {
     "data": {
      "text/plain": [
       "['deadpool',\n",
       " 'x-men',\n",
       " 'avengers',\n",
       " 'avatars',\n",
       " 'twilight',\n",
       " 'theory of everthing',\n",
       " 'moonknight']"
      ]
     },
     "execution_count": 72,
     "metadata": {},
     "output_type": "execute_result"
    }
   ],
   "source": [
    "#creating a new list by adding both the list\n",
    "New_list = fav_movies + another_list #this is the good way of adding the two list\n",
    "#finding out the new movie\n",
    "New_list"
   ]
  },
  {
   "cell_type": "code",
   "execution_count": 73,
   "id": "62686e40",
   "metadata": {},
   "outputs": [
    {
     "data": {
      "text/plain": [
       "7"
      ]
     },
     "execution_count": 73,
     "metadata": {},
     "output_type": "execute_result"
    }
   ],
   "source": [
    "#fav_movies.clear()\n",
    "len(New_list)"
   ]
  },
  {
   "cell_type": "code",
   "execution_count": 76,
   "id": "c08a2c03",
   "metadata": {},
   "outputs": [
    {
     "data": {
      "text/plain": [
       "['forrest gump',\n",
       " 'forrest gump',\n",
       " 'forrest gump',\n",
       " 'deadpool',\n",
       " 'x-men',\n",
       " 'avengers',\n",
       " 'avatars',\n",
       " 'twilight',\n",
       " 'theory of everthing',\n",
       " 'moonknight']"
      ]
     },
     "execution_count": 76,
     "metadata": {},
     "output_type": "execute_result"
    }
   ],
   "source": [
    "#to add something at a very specific place we need to use the insert function\n",
    "New_list.insert(1,\"forrest gump\")\n",
    "New_list"
   ]
  },
  {
   "cell_type": "code",
   "execution_count": 80,
   "id": "809ca3e7",
   "metadata": {},
   "outputs": [
    {
     "data": {
      "text/plain": [
       "['forrest gump',\n",
       " 'deadpool',\n",
       " 'x-men',\n",
       " 'avengers',\n",
       " 'avatars',\n",
       " 'twilight',\n",
       " 'theory of everthing',\n",
       " 'moonknight']"
      ]
     },
     "execution_count": 80,
     "metadata": {},
     "output_type": "execute_result"
    }
   ],
   "source": [
    "New_list.remove('forrest gump')\n",
    "New_list"
   ]
  },
  {
   "cell_type": "code",
   "execution_count": 82,
   "id": "62ce1e43",
   "metadata": {},
   "outputs": [
    {
     "data": {
      "text/plain": [
       "['x-men',\n",
       " 'avengers',\n",
       " 'avatars',\n",
       " 'twilight',\n",
       " 'theory of everthing',\n",
       " 'moonknight']"
      ]
     },
     "execution_count": 82,
     "metadata": {},
     "output_type": "execute_result"
    }
   ],
   "source": [
    "#to remove we can use the another keyword,\n",
    "del(New_list[0])\n",
    "New_list"
   ]
  },
  {
   "cell_type": "code",
   "execution_count": 83,
   "id": "c07f1059",
   "metadata": {},
   "outputs": [
    {
     "name": "stdout",
     "output_type": "stream",
     "text": [
      "Hello man!\n",
      "Hello man!\n",
      "Hello man!\n",
      "Hello man!\n",
      "Hello man!\n",
      "Hello man!\n",
      "Hello man!\n",
      "Hello man!\n",
      "Hello man!\n",
      "Hello man!\n"
     ]
    }
   ],
   "source": [
    "for number in range(10):\n",
    "    print(\"Hello man!\")\n",
    "    "
   ]
  },
  {
   "cell_type": "code",
   "execution_count": 89,
   "id": "441c8077",
   "metadata": {},
   "outputs": [
    {
     "name": "stdout",
     "output_type": "stream",
     "text": [
      "theory of everthing\n",
      "that is one of the best films that I have watched in long time\n"
     ]
    }
   ],
   "source": [
    "#printing the each of the movies form the list\n",
    "for Movies in New_list:\n",
    "    if len(Movies) > 10:\n",
    "        print(Movies)\n",
    "print(\"that is one of the best films that I have watched in long time\")\n",
    "\n",
    "#in this example we have used the for loop and the if statement"
   ]
  },
  {
   "cell_type": "code",
   "execution_count": 90,
   "id": "a6d4fb5c",
   "metadata": {},
   "outputs": [
    {
     "name": "stdout",
     "output_type": "stream",
     "text": [
      "0\n",
      "2\n",
      "4\n",
      "6\n",
      "8\n",
      "10\n",
      "12\n",
      "14\n",
      "16\n",
      "18\n",
      "20\n",
      "22\n",
      "24\n",
      "26\n",
      "28\n",
      "30\n",
      "32\n",
      "34\n",
      "36\n",
      "38\n",
      "40\n",
      "42\n",
      "44\n",
      "46\n",
      "48\n",
      "50\n",
      "52\n",
      "54\n",
      "56\n",
      "58\n",
      "60\n",
      "62\n",
      "64\n",
      "66\n",
      "68\n",
      "70\n",
      "72\n",
      "74\n",
      "76\n",
      "78\n"
     ]
    }
   ],
   "source": [
    "for number in range(40):\n",
    "    print(2*number)"
   ]
  },
  {
   "cell_type": "code",
   "execution_count": 91,
   "id": "3ef65a25",
   "metadata": {},
   "outputs": [
    {
     "name": "stdout",
     "output_type": "stream",
     "text": [
      "6\n"
     ]
    }
   ],
   "source": [
    "#now need to lern the about the dictionaries \n",
    "cats = {\"jane\":6,\"tom\":7,\"henry\":9,\"old\":15}\n",
    "#how to work with the dictionaries\n",
    "print(cats[\"jane\"])"
   ]
  },
  {
   "cell_type": "code",
   "execution_count": 93,
   "id": "6ece7421",
   "metadata": {},
   "outputs": [
    {
     "data": {
      "text/plain": [
       "{'jane': 6, 'tom': 7, 'henry': 9, 'old': 15, 'wilson': 1}"
      ]
     },
     "execution_count": 93,
     "metadata": {},
     "output_type": "execute_result"
    }
   ],
   "source": [
    "#if we want to add the elements in the dictionary we will be doing it in this way\n",
    "cats[\"wilson\"]=1 #it is a very easy way to add the elemets in the dictionary\n",
    "cats"
   ]
  },
  {
   "cell_type": "code",
   "execution_count": 94,
   "id": "67e3e62c",
   "metadata": {},
   "outputs": [],
   "source": [
    "text = \"\"\"\n",
    "\n",
    "Four score and seven years ago our fathers brought forth on this continent, a new nation, conceived in Liberty, and dedicated to the proposition that all men are created equal.\n",
    "\n",
    "Now we are engaged in a great civil war, testing whether that nation, or any nation so conceived and so dedicated, can long endure. We are met on a great battle-field of that war.\n",
    "We have come to dedicate a portion of that field, as a final resting place for those who here gave their lives that that nation might live. It is altogether fitting and proper that we should do this.\n",
    "\n",
    "But, in a larger sense, we can not dedicate—we can not consecrate—we can not hallow—this ground. The brave men, living and dead, who struggled here, have consecrated it, far above our poor power to add or detract. The world will little note, nor long remember what we say here, \n",
    "but it can never forget what they did here. It is for us the living, rather, to be dedicated here to the unfinished work which they who fought here have thus far so nobly advanced. It is rather for us to be here dedicated to the great task remaining before us—that from these honored dead\n",
    "we take increased devotion to that cause for which they gave the last full measure of devotion—that we here highly resolve that these dead shall not have died in vain—that this nation, under God, shall have a new birth of freedom—and that government of the people, by the people, for the people, shall not perish from the earth.\n",
    "\n",
    "\"\"\""
   ]
  },
  {
   "cell_type": "code",
   "execution_count": 95,
   "id": "e4dfad58",
   "metadata": {},
   "outputs": [
    {
     "data": {
      "text/plain": [
       "'\\n\\nFour score and seven years ago our fathers brought forth on this continent, a new nation, conceived in Liberty, and dedicated to the proposition that all men are created equal.\\n\\nNow we are engaged in a great civil war, testing whether that nation, or any nation so conceived and so dedicated, can long endure. We are met on a great battle-field of that war.\\nWe have come to dedicate a portion of that field, as a final resting place for those who here gave their lives that that nation might live. It is altogether fitting and proper that we should do this.\\n\\nBut, in a larger sense, we can not dedicate—we can not consecrate—we can not hallow—this ground. The brave men, living and dead, who struggled here, have consecrated it, far above our poor power to add or detract. The world will little note, nor long remember what we say here, \\nbut it can never forget what they did here. It is for us the living, rather, to be dedicated here to the unfinished work which they who fought here have thus far so nobly advanced. It is rather for us to be here dedicated to the great task remaining before us—that from these honored dead\\nwe take increased devotion to that cause for which they gave the last full measure of devotion—that we here highly resolve that these dead shall not have died in vain—that this nation, under God, shall have a new birth of freedom—and that government of the people, by the people, for the people, shall not perish from the earth.\\n\\n'"
      ]
     },
     "execution_count": 95,
     "metadata": {},
     "output_type": "execute_result"
    }
   ],
   "source": [
    "text"
   ]
  },
  {
   "cell_type": "code",
   "execution_count": 96,
   "id": "6914be41",
   "metadata": {},
   "outputs": [
    {
     "data": {
      "text/plain": [
       "1459"
      ]
     },
     "execution_count": 96,
     "metadata": {},
     "output_type": "execute_result"
    }
   ],
   "source": [
    "#finding the length of the above text\n",
    "len(text)"
   ]
  },
  {
   "cell_type": "code",
   "execution_count": 97,
   "id": "0752270f",
   "metadata": {},
   "outputs": [
    {
     "name": "stdout",
     "output_type": "stream",
     "text": [
      "['Four', 'score', 'and', 'seven', 'years', 'ago', 'our', 'fathers', 'brought', 'forth', 'on', 'this', 'continent,', 'a', 'new', 'nation,', 'conceived', 'in', 'Liberty,', 'and', 'dedicated', 'to', 'the', 'proposition', 'that', 'all', 'men', 'are', 'created', 'equal.', 'Now', 'we', 'are', 'engaged', 'in', 'a', 'great', 'civil', 'war,', 'testing', 'whether', 'that', 'nation,', 'or', 'any', 'nation', 'so', 'conceived', 'and', 'so', 'dedicated,', 'can', 'long', 'endure.', 'We', 'are', 'met', 'on', 'a', 'great', 'battle-field', 'of', 'that', 'war.', 'We', 'have', 'come', 'to', 'dedicate', 'a', 'portion', 'of', 'that', 'field,', 'as', 'a', 'final', 'resting', 'place', 'for', 'those', 'who', 'here', 'gave', 'their', 'lives', 'that', 'that', 'nation', 'might', 'live.', 'It', 'is', 'altogether', 'fitting', 'and', 'proper', 'that', 'we', 'should', 'do', 'this.', 'But,', 'in', 'a', 'larger', 'sense,', 'we', 'can', 'not', 'dedicate—we', 'can', 'not', 'consecrate—we', 'can', 'not', 'hallow—this', 'ground.', 'The', 'brave', 'men,', 'living', 'and', 'dead,', 'who', 'struggled', 'here,', 'have', 'consecrated', 'it,', 'far', 'above', 'our', 'poor', 'power', 'to', 'add', 'or', 'detract.', 'The', 'world', 'will', 'little', 'note,', 'nor', 'long', 'remember', 'what', 'we', 'say', 'here,', 'but', 'it', 'can', 'never', 'forget', 'what', 'they', 'did', 'here.', 'It', 'is', 'for', 'us', 'the', 'living,', 'rather,', 'to', 'be', 'dedicated', 'here', 'to', 'the', 'unfinished', 'work', 'which', 'they', 'who', 'fought', 'here', 'have', 'thus', 'far', 'so', 'nobly', 'advanced.', 'It', 'is', 'rather', 'for', 'us', 'to', 'be', 'here', 'dedicated', 'to', 'the', 'great', 'task', 'remaining', 'before', 'us—that', 'from', 'these', 'honored', 'dead', 'we', 'take', 'increased', 'devotion', 'to', 'that', 'cause', 'for', 'which', 'they', 'gave', 'the', 'last', 'full', 'measure', 'of', 'devotion—that', 'we', 'here', 'highly', 'resolve', 'that', 'these', 'dead', 'shall', 'not', 'have', 'died', 'in', 'vain—that', 'this', 'nation,', 'under', 'God,', 'shall', 'have', 'a', 'new', 'birth', 'of', 'freedom—and', 'that', 'government', 'of', 'the', 'people,', 'by', 'the', 'people,', 'for', 'the', 'people,', 'shall', 'not', 'perish', 'from', 'the', 'earth.']\n"
     ]
    }
   ],
   "source": [
    "print(text.split())"
   ]
  },
  {
   "cell_type": "code",
   "execution_count": 99,
   "id": "60e0f2de",
   "metadata": {},
   "outputs": [
    {
     "name": "stdout",
     "output_type": "stream",
     "text": [
      "264\n"
     ]
    }
   ],
   "source": [
    "print(len(text.split()))#what here we are doing is counting the words according to their meaning\n",
    "#so we are neglecting the connecting verbs from it."
   ]
  },
  {
   "cell_type": "code",
   "execution_count": 110,
   "id": "c85dee54",
   "metadata": {},
   "outputs": [
    {
     "name": "stdout",
     "output_type": "stream",
     "text": [
      "{'a': 1, 'd': 3, 'f': 1, 't': 2, 'g': 1, 'e': 2}\n"
     ]
    }
   ],
   "source": [
    "#so we will make the use of dictionary and the count statement to find out the \n",
    "#number os dictionaries in the words are present\n",
    "text = \"\"\"\n",
    "a d f t g e e t d d\n",
    "\"\"\"\n",
    "word_count ={} #so what we are doing here is telling the python that we are going to use the dictionary for the next projcet\n",
    "\n",
    "for word in text.split():\n",
    "    if word in word_count:\n",
    "        word_count[word] +=1\n",
    "    else:\n",
    "        word_count[word]= 1\n",
    "\n",
    "print(word_count)\n",
    "    "
   ]
  },
  {
   "cell_type": "code",
   "execution_count": 111,
   "id": "a821b61f",
   "metadata": {},
   "outputs": [
    {
     "name": "stdout",
     "output_type": "stream",
     "text": [
      "{'a': 2, 'd': 3, 'f': 1, 't': 2, 'g': 1, 'e': 2, 'h': 1, 'k': 2, 'y': 1}\n"
     ]
    }
   ],
   "source": [
    "#now if we want to do the same thing with both the upper and the lower case then\n",
    "#so we will make the use of dictionary and the count statement to find out the \n",
    "#number os dictionaries in the words are present\n",
    "text = \"\"\"\n",
    "a d f t g e e t d d A H K K Y\n",
    "\"\"\"\n",
    "word_count ={} #so what we are doing here is telling the python that we are going to use the dictionary for the next projcet\n",
    "\n",
    "for word in text.lower().split():\n",
    "    if word in word_count:\n",
    "        word_count[word] +=1\n",
    "    else:\n",
    "        word_count[word]= 1\n",
    "\n",
    "print(word_count)\n",
    "#now it counts all the lower and the upper case words in out program"
   ]
  },
  {
   "cell_type": "code",
   "execution_count": 112,
   "id": "23fb7e15",
   "metadata": {},
   "outputs": [
    {
     "name": "stdout",
     "output_type": "stream",
     "text": [
      "{'four': 1, 'score': 1, 'and': 5, 'seven': 1, 'years': 1, 'ago': 1, 'our': 2, 'fathers': 1, 'brought': 1, 'forth': 1, 'on': 2, 'this': 2, 'continent,': 1, 'a': 7, 'new': 2, 'nation,': 3, 'conceived': 2, 'in': 4, 'liberty,': 1, 'dedicated': 3, 'to': 8, 'the': 11, 'proposition': 1, 'that': 10, 'all': 1, 'men': 1, 'are': 3, 'created': 1, 'equal.': 1, 'now': 1, 'we': 8, 'engaged': 1, 'great': 3, 'civil': 1, 'war,': 1, 'testing': 1, 'whether': 1, 'or': 2, 'any': 1, 'nation': 2, 'so': 3, 'dedicated,': 1, 'can': 5, 'long': 2, 'endure.': 1, 'met': 1, 'battle-field': 1, 'of': 5, 'war.': 1, 'have': 5, 'come': 1, 'dedicate': 1, 'portion': 1, 'field,': 1, 'as': 1, 'final': 1, 'resting': 1, 'place': 1, 'for': 5, 'those': 1, 'who': 3, 'here': 5, 'gave': 2, 'their': 1, 'lives': 1, 'might': 1, 'live.': 1, 'it': 4, 'is': 3, 'altogether': 1, 'fitting': 1, 'proper': 1, 'should': 1, 'do': 1, 'this.': 1, 'but,': 1, 'larger': 1, 'sense,': 1, 'not': 5, 'dedicate—we': 1, 'consecrate—we': 1, 'hallow—this': 1, 'ground.': 1, 'brave': 1, 'men,': 1, 'living': 1, 'dead,': 1, 'struggled': 1, 'here,': 2, 'consecrated': 1, 'it,': 1, 'far': 2, 'above': 1, 'poor': 1, 'power': 1, 'add': 1, 'detract.': 1, 'world': 1, 'will': 1, 'little': 1, 'note,': 1, 'nor': 1, 'remember': 1, 'what': 2, 'say': 1, 'but': 1, 'never': 1, 'forget': 1, 'they': 3, 'did': 1, 'here.': 1, 'us': 2, 'living,': 1, 'rather,': 1, 'be': 2, 'unfinished': 1, 'work': 1, 'which': 2, 'fought': 1, 'thus': 1, 'nobly': 1, 'advanced.': 1, 'rather': 1, 'task': 1, 'remaining': 1, 'before': 1, 'us—that': 1, 'from': 2, 'these': 2, 'honored': 1, 'dead': 2, 'take': 1, 'increased': 1, 'devotion': 1, 'cause': 1, 'last': 1, 'full': 1, 'measure': 1, 'devotion—that': 1, 'highly': 1, 'resolve': 1, 'shall': 3, 'died': 1, 'vain—that': 1, 'under': 1, 'god,': 1, 'birth': 1, 'freedom—and': 1, 'government': 1, 'people,': 3, 'by': 1, 'perish': 1, 'earth.': 1}\n"
     ]
    }
   ],
   "source": [
    "#now we have a functinal program on the words, next we will going to do it in on the other words\n",
    "text = \"\"\"\n",
    "\n",
    "Four score and seven years ago our fathers brought forth on this continent, a new nation, conceived in Liberty, and dedicated to the proposition that all men are created equal.\n",
    "\n",
    "Now we are engaged in a great civil war, testing whether that nation, or any nation so conceived and so dedicated, can long endure. We are met on a great battle-field of that war.\n",
    "We have come to dedicate a portion of that field, as a final resting place for those who here gave their lives that that nation might live. It is altogether fitting and proper that we should do this.\n",
    "\n",
    "But, in a larger sense, we can not dedicate—we can not consecrate—we can not hallow—this ground. The brave men, living and dead, who struggled here, have consecrated it, far above our poor power to add or detract. The world will little note, nor long remember what we say here, \n",
    "but it can never forget what they did here. It is for us the living, rather, to be dedicated here to the unfinished work which they who fought here have thus far so nobly advanced. It is rather for us to be here dedicated to the great task remaining before us—that from these honored dead\n",
    "we take increased devotion to that cause for which they gave the last full measure of devotion—that we here highly resolve that these dead shall not have died in vain—that this nation, under God, shall have a new birth of freedom—and that government of the people, by the people, for the people, shall not perish from the earth.\n",
    "\n",
    "\"\"\"\n",
    "word_count ={} #so what we are doing here is telling the python that we are going to use the dictionary for the next projcet\n",
    "\n",
    "for word in text.lower().split():\n",
    "    if word in word_count:\n",
    "        word_count[word] +=1\n",
    "    else:\n",
    "        word_count[word]= 1\n",
    "\n",
    "print(word_count)\n",
    "#now it counts all the lower and the upper case words in out program\n",
    "#so this can be called as a simple text analytics program in our editor"
   ]
  },
  {
   "cell_type": "code",
   "execution_count": null,
   "id": "a54bd652",
   "metadata": {},
   "outputs": [],
   "source": []
  }
 ],
 "metadata": {
  "kernelspec": {
   "display_name": "Python 3",
   "language": "python",
   "name": "python3"
  },
  "language_info": {
   "codemirror_mode": {
    "name": "ipython",
    "version": 3
   },
   "file_extension": ".py",
   "mimetype": "text/x-python",
   "name": "python",
   "nbconvert_exporter": "python",
   "pygments_lexer": "ipython3",
   "version": "3.8.8"
  }
 },
 "nbformat": 4,
 "nbformat_minor": 5
}

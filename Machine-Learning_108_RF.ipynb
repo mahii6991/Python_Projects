{
 "cells": [
  {
   "cell_type": "markdown",
   "metadata": {},
   "source": [
    "## Random Forest: Hyperparameters\n",
    "\n",
    "Import [`RandomForestClassifier`](https://scikit-learn.org/stable/modules/generated/sklearn.ensemble.RandomForestClassifier.html) and [`RandomForestRegressor`](https://scikit-learn.org/stable/modules/generated/sklearn.ensemble.RandomForestRegressor.html) from `sklearn` and explore the hyperparameters."
   ]
  },
  {
   "cell_type": "markdown",
   "metadata": {},
   "source": [
    "### Import Random Forest Algorithm for Classification & Regression"
   ]
  },
  {
   "cell_type": "code",
   "execution_count": 2,
   "metadata": {},
   "outputs": [
    {
     "name": "stdout",
     "output_type": "stream",
     "text": [
      "RandomForestClassifier()\n",
      "RandomForestRegressor()\n"
     ]
    }
   ],
   "source": [
    "#Random forest\n",
    "#it is collection of independent decision trees to get more accurate and stable prediction.\n",
    "#Ensemble methods combine several machine learning models in order to decrease both bias and variance\n",
    "\n",
    "#When to use it (just a general idea to get)\n",
    "# on both contineous and categorical data\n",
    "# instrested in the significance of the predictor\n",
    "# need a quick benchmark model to test the model\n",
    "# if you have messy data , with missing values and outliers it works best\n",
    "\n",
    "#when to not use it\n",
    "#if you are solving a very complex , novel problem\n",
    "# transparency is important\n",
    "#prediction time is important\n",
    "\n",
    "from sklearn.ensemble import RandomForestClassifier , RandomForestRegressor\n",
    "\n",
    "print(RandomForestClassifier())\n",
    "print(RandomForestRegressor())\n"
   ]
  },
  {
   "cell_type": "code",
   "execution_count": 4,
   "metadata": {},
   "outputs": [],
   "source": [
    "#lets talk about the hyperparameter \n",
    "'''\n",
    "the n_estimators controls how many individual decision trees will be built\n",
    "in other words it controls the width of the model\n",
    "\n",
    "the max_depth controls how deep each individual decision tree can go\n",
    "in other words it control the depth of the model\n",
    "\n",
    "'''\n",
    "\n",
    "import joblib\n",
    "import pandas as pd\n",
    "from sklearn.ensemble import RandomForestClassifier\n",
    "from sklearn.model_selection import GridSearchCV\n",
    "import warnings\n",
    "warnings.filterwarnings('ignore', category=FutureWarning)\n",
    "warnings.filterwarnings('ignore', category=DeprecationWarning)\n",
    "\n",
    "tr_features = pd.read_csv('train_features.csv')\n",
    "tr_labels = pd.read_csv('train_labels.csv', header=None)"
   ]
  },
  {
   "cell_type": "markdown",
   "metadata": {},
   "source": [
    "# Hyperparameter tuning"
   ]
  },
  {
   "cell_type": "code",
   "execution_count": 5,
   "metadata": {},
   "outputs": [],
   "source": [
    "def print_results(results):\n",
    "    print('BEST PARAMS: {}\\n'.format(results.best_params_))\n",
    "\n",
    "    means = results.cv_results_['mean_test_score']\n",
    "    stds = results.cv_results_['std_test_score']\n",
    "    for mean, std, params in zip(means, stds, results.cv_results_['params']):\n",
    "        print('{} (+/-{}) for {}'.format(round(mean, 3), round(std * 2, 3), params))"
   ]
  },
  {
   "cell_type": "code",
   "execution_count": 8,
   "metadata": {},
   "outputs": [
    {
     "name": "stdout",
     "output_type": "stream",
     "text": [
      "BEST PARAMS: {'max_depth': 8, 'n_estimators': 5}\n",
      "\n",
      "0.783 (+/-0.119) for {'max_depth': 2, 'n_estimators': 5}\n",
      "0.792 (+/-0.132) for {'max_depth': 2, 'n_estimators': 50}\n",
      "0.796 (+/-0.116) for {'max_depth': 2, 'n_estimators': 250}\n",
      "0.824 (+/-0.059) for {'max_depth': 4, 'n_estimators': 5}\n",
      "0.818 (+/-0.098) for {'max_depth': 4, 'n_estimators': 50}\n",
      "0.824 (+/-0.108) for {'max_depth': 4, 'n_estimators': 250}\n",
      "0.833 (+/-0.062) for {'max_depth': 8, 'n_estimators': 5}\n",
      "0.826 (+/-0.064) for {'max_depth': 8, 'n_estimators': 50}\n",
      "0.818 (+/-0.067) for {'max_depth': 8, 'n_estimators': 250}\n",
      "0.788 (+/-0.056) for {'max_depth': 16, 'n_estimators': 5}\n",
      "0.803 (+/-0.023) for {'max_depth': 16, 'n_estimators': 50}\n",
      "0.815 (+/-0.021) for {'max_depth': 16, 'n_estimators': 250}\n",
      "0.807 (+/-0.106) for {'max_depth': 32, 'n_estimators': 5}\n",
      "0.813 (+/-0.031) for {'max_depth': 32, 'n_estimators': 50}\n",
      "0.811 (+/-0.037) for {'max_depth': 32, 'n_estimators': 250}\n",
      "0.796 (+/-0.038) for {'max_depth': None, 'n_estimators': 5}\n",
      "0.803 (+/-0.02) for {'max_depth': None, 'n_estimators': 50}\n",
      "0.805 (+/-0.042) for {'max_depth': None, 'n_estimators': 250}\n"
     ]
    }
   ],
   "source": [
    "rf = RandomForestClassifier()\n",
    "parameters = {\n",
    "    'n_estimators': [5,50,250],\n",
    "    'max_depth': [2 ,4 ,8, 16, 32, None]\n",
    "}\n",
    "\n",
    "cv = GridSearchCV(rf , parameters , cv=5)\n",
    "#fitting the model \n",
    "cv.fit(tr_features, tr_labels.values.ravel())\n",
    "\n",
    "# print the results \n",
    "print_results(cv)\n"
   ]
  },
  {
   "cell_type": "markdown",
   "metadata": {},
   "source": [
    "# write out pickled model"
   ]
  },
  {
   "cell_type": "code",
   "execution_count": 9,
   "metadata": {},
   "outputs": [
    {
     "data": {
      "text/plain": [
       "['RF_model.pkl']"
      ]
     },
     "execution_count": 9,
     "metadata": {},
     "output_type": "execute_result"
    }
   ],
   "source": [
    "joblib.dump(cv.best_estimator_,'RF_model.pkl')"
   ]
  },
  {
   "cell_type": "code",
   "execution_count": null,
   "metadata": {},
   "outputs": [],
   "source": []
  }
 ],
 "metadata": {
  "kernelspec": {
   "display_name": "Python 3",
   "language": "python",
   "name": "python3"
  },
  "language_info": {
   "codemirror_mode": {
    "name": "ipython",
    "version": 3
   },
   "file_extension": ".py",
   "mimetype": "text/x-python",
   "name": "python",
   "nbconvert_exporter": "python",
   "pygments_lexer": "ipython3",
   "version": "3.8.8"
  }
 },
 "nbformat": 4,
 "nbformat_minor": 2
}
